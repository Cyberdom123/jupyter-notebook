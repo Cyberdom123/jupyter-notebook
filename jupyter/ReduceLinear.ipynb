{
 "cells": [
  {
   "cell_type": "code",
   "execution_count": 2,
   "id": "d606b06a",
   "metadata": {},
   "outputs": [],
   "source": [
    "#Reduce linear system to reduced row echelon form"
   ]
  },
  {
   "cell_type": "code",
   "execution_count": 3,
   "id": "8768d33b",
   "metadata": {},
   "outputs": [
    {
     "data": {
      "text/latex": [
       "$\\displaystyle \\left[\\begin{matrix}1 & 0 & 0 & -1 & -1\\\\0 & 1 & -2 & 0 & 0\\\\0 & 0 & 0 & 0 & 0\\\\0 & 0 & 0 & 0 & 0\\end{matrix}\\right]$"
      ],
      "text/plain": [
       "⎡1  0  0   -1  -1⎤\n",
       "⎢                ⎥\n",
       "⎢0  1  -2  0   0 ⎥\n",
       "⎢                ⎥\n",
       "⎢0  0  0   0   0 ⎥\n",
       "⎢                ⎥\n",
       "⎣0  0  0   0   0 ⎦"
      ]
     },
     "execution_count": 3,
     "metadata": {},
     "output_type": "execute_result"
    }
   ],
   "source": [
    "from sympy import *\n",
    "init_printing()\n",
    "\n",
    "augmented_A = Matrix([[1, -1, 2, -1, -1],\n",
    "                      [2, 1, -2, -2, -2],\n",
    "                      [-1, 2, -4, 1, 1],\n",
    "                      [3, 0, 0, -3, -3]])\n",
    "augmented_A.rref()[0]"
   ]
  },
  {
   "cell_type": "code",
   "execution_count": null,
   "id": "4cdf7e50",
   "metadata": {},
   "outputs": [],
   "source": []
  }
 ],
 "metadata": {
  "kernelspec": {
   "display_name": "Python 3",
   "language": "python",
   "name": "python3"
  },
  "language_info": {
   "codemirror_mode": {
    "name": "ipython",
    "version": 3
   },
   "file_extension": ".py",
   "mimetype": "text/x-python",
   "name": "python",
   "nbconvert_exporter": "python",
   "pygments_lexer": "ipython3",
   "version": "3.9.6"
  }
 },
 "nbformat": 4,
 "nbformat_minor": 5
}
