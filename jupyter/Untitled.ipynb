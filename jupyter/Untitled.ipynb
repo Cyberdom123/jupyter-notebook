{
 "cells": [
  {
   "cell_type": "code",
   "execution_count": 1,
   "id": "dff0883e",
   "metadata": {},
   "outputs": [
    {
     "name": "stdout",
     "output_type": "stream",
     "text": [
      "-1\n"
     ]
    }
   ],
   "source": [
    "import numpy as np\n",
    "\n",
    "x = np.random.choice([-1,1])\n",
    "print(x)"
   ]
  },
  {
   "cell_type": "code",
   "execution_count": 5,
   "id": "add9a71e",
   "metadata": {},
   "outputs": [
    {
     "data": {
      "text/plain": [
       "[1,\n",
       " 0,\n",
       " 1,\n",
       " 2,\n",
       " 1,\n",
       " -2,\n",
       " 1,\n",
       " 4,\n",
       " -1,\n",
       " 0,\n",
       " 3,\n",
       " 0,\n",
       " -3,\n",
       " -2,\n",
       " 5,\n",
       " 2,\n",
       " 1,\n",
       " 2,\n",
       " -3,\n",
       " 2,\n",
       " -5,\n",
       " 4,\n",
       " 3,\n",
       " 0,\n",
       " 5,\n",
       " -12,\n",
       " 5,\n",
       " 10,\n",
       " -1,\n",
       " 6,\n",
       " 13,\n",
       " -8,\n",
       " 7,\n",
       " 6,\n",
       " 11,\n",
       " -8,\n",
       " 1,\n",
       " 0,\n",
       " 5,\n",
       " 4,\n",
       " 1,\n",
       " -2,\n",
       " 3,\n",
       " 4,\n",
       " 3,\n",
       " 10,\n",
       " -5,\n",
       " 2,\n",
       " 17,\n",
       " 6,\n",
       " -1,\n",
       " -2,\n",
       " -3,\n",
       " 6,\n",
       " 5,\n",
       " -16,\n",
       " 9,\n",
       " -10,\n",
       " 7,\n",
       " 2,\n",
       " 13,\n",
       " 4,\n",
       " 11,\n",
       " -12,\n",
       " -9,\n",
       " 8,\n",
       " 23,\n",
       " 10,\n",
       " 3,\n",
       " 6,\n",
       " 15,\n",
       " -8,\n",
       " -3,\n",
       " -8,\n",
       " 1,\n",
       " 0,\n",
       " 9,\n",
       " 10,\n",
       " -7,\n",
       " -12,\n",
       " -1,\n",
       " 0,\n",
       " -3,\n",
       " 4,\n",
       " -1,\n",
       " 16,\n",
       " -1,\n",
       " 2,\n",
       " -5,\n",
       " 20,\n",
       " -7,\n",
       " 2,\n",
       " -7,\n",
       " -8,\n",
       " 9,\n",
       " 14,\n",
       " -15,\n",
       " 12,\n",
       " 9]"
      ]
     },
     "execution_count": 5,
     "metadata": {},
     "output_type": "execute_result"
    }
   ],
   "source": [
    "import numpy as np\n",
    "def T(n):\n",
    "    if n == 1:\n",
    "        return 1\n",
    "    else:\n",
    "        return np.random.choice([-1,1]) + T(n-1)\n",
    "    \n",
    "[T(i) for i in range(1,100)]"
   ]
  },
  {
   "cell_type": "code",
   "execution_count": null,
   "id": "e80ba08f",
   "metadata": {},
   "outputs": [],
   "source": []
  }
 ],
 "metadata": {
  "kernelspec": {
   "display_name": "Python 3",
   "language": "python",
   "name": "python3"
  },
  "language_info": {
   "codemirror_mode": {
    "name": "ipython",
    "version": 3
   },
   "file_extension": ".py",
   "mimetype": "text/x-python",
   "name": "python",
   "nbconvert_exporter": "python",
   "pygments_lexer": "ipython3",
   "version": "3.9.6"
  }
 },
 "nbformat": 4,
 "nbformat_minor": 5
}
